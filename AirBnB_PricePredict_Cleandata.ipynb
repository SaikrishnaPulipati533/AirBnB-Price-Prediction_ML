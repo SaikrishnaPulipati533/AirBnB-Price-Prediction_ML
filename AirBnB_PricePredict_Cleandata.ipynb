{
 "cells": [
  {
   "cell_type": "code",
   "execution_count": 1,
   "metadata": {},
   "outputs": [],
   "source": [
    "# import required libraries\n",
    "\n",
    "import numpy as np\n",
    "import pandas as pd\n",
    "from sklearn.model_selection import train_test_split\n",
    "from sklearn.metrics import mean_squared_error\n",
    "\n",
    "from sklearn.linear_model import LinearRegression\n",
    "from sklearn.tree import DecisionTreeRegressor\n",
    "from sklearn.ensemble import RandomForestRegressor\n",
    "import xgboost\n"
   ]
  },
  {
   "cell_type": "code",
   "execution_count": 2,
   "metadata": {},
   "outputs": [],
   "source": [
    "# load the dataset\n",
    "\n",
    "train_data = pd.read_csv(\"train.csv\")\n",
    "test_data = pd.read_excel(\"test.xlsx\")"
   ]
  },
  {
   "cell_type": "markdown",
   "metadata": {},
   "source": [
    "# Data Cleaning "
   ]
  },
  {
   "cell_type": "code",
   "execution_count": 3,
   "metadata": {},
   "outputs": [
    {
     "data": {
      "text/plain": [
       "((49999, 30), (24111, 29))"
      ]
     },
     "execution_count": 3,
     "metadata": {},
     "output_type": "execute_result"
    }
   ],
   "source": [
    "train_data.shape, test_data.shape"
   ]
  },
  {
   "cell_type": "code",
   "execution_count": 4,
   "metadata": {},
   "outputs": [
    {
     "data": {
      "text/html": [
       "<div>\n",
       "<style scoped>\n",
       "    .dataframe tbody tr th:only-of-type {\n",
       "        vertical-align: middle;\n",
       "    }\n",
       "\n",
       "    .dataframe tbody tr th {\n",
       "        vertical-align: top;\n",
       "    }\n",
       "\n",
       "    .dataframe thead th {\n",
       "        text-align: right;\n",
       "    }\n",
       "</style>\n",
       "<table border=\"1\" class=\"dataframe\">\n",
       "  <thead>\n",
       "    <tr style=\"text-align: right;\">\n",
       "      <th></th>\n",
       "      <th>id</th>\n",
       "      <th>property_type</th>\n",
       "      <th>room_type</th>\n",
       "      <th>amenities</th>\n",
       "      <th>accommodates</th>\n",
       "      <th>bathrooms</th>\n",
       "      <th>bed_type</th>\n",
       "      <th>cancellation_policy</th>\n",
       "      <th>cleaning_fee</th>\n",
       "      <th>city</th>\n",
       "      <th>...</th>\n",
       "      <th>name</th>\n",
       "      <th>neighbourhood</th>\n",
       "      <th>number_of_reviews</th>\n",
       "      <th>review_scores_rating</th>\n",
       "      <th>thumbnail_url</th>\n",
       "      <th>zipcode</th>\n",
       "      <th>bedrooms</th>\n",
       "      <th>beds</th>\n",
       "      <th>log_price</th>\n",
       "      <th></th>\n",
       "    </tr>\n",
       "  </thead>\n",
       "  <tbody>\n",
       "    <tr>\n",
       "      <th>0</th>\n",
       "      <td>6901257</td>\n",
       "      <td>Apartment</td>\n",
       "      <td>Entire home/apt</td>\n",
       "      <td>{\"Wireless Internet\",\"Air conditioning\",Kitche...</td>\n",
       "      <td>3</td>\n",
       "      <td>1.0</td>\n",
       "      <td>Real Bed</td>\n",
       "      <td>strict</td>\n",
       "      <td>True</td>\n",
       "      <td>NYC</td>\n",
       "      <td>...</td>\n",
       "      <td>Beautiful brownstone 1-bedroom</td>\n",
       "      <td>Brooklyn Heights</td>\n",
       "      <td>2</td>\n",
       "      <td>100.0</td>\n",
       "      <td>https://a0.muscache.com/im/pictures/6d7cbbf7-c...</td>\n",
       "      <td>11201</td>\n",
       "      <td>1.0</td>\n",
       "      <td>1.0</td>\n",
       "      <td>5.010635</td>\n",
       "      <td>NaN</td>\n",
       "    </tr>\n",
       "    <tr>\n",
       "      <th>1</th>\n",
       "      <td>6304928</td>\n",
       "      <td>Apartment</td>\n",
       "      <td>Entire home/apt</td>\n",
       "      <td>{\"Wireless Internet\",\"Air conditioning\",Kitche...</td>\n",
       "      <td>7</td>\n",
       "      <td>1.0</td>\n",
       "      <td>Real Bed</td>\n",
       "      <td>strict</td>\n",
       "      <td>True</td>\n",
       "      <td>NYC</td>\n",
       "      <td>...</td>\n",
       "      <td>Superb 3BR Apt Located Near Times Square</td>\n",
       "      <td>Hell's Kitchen</td>\n",
       "      <td>6</td>\n",
       "      <td>93.0</td>\n",
       "      <td>https://a0.muscache.com/im/pictures/348a55fe-4...</td>\n",
       "      <td>10019</td>\n",
       "      <td>3.0</td>\n",
       "      <td>3.0</td>\n",
       "      <td>5.129899</td>\n",
       "      <td>NaN</td>\n",
       "    </tr>\n",
       "    <tr>\n",
       "      <th>2</th>\n",
       "      <td>7919400</td>\n",
       "      <td>Apartment</td>\n",
       "      <td>Entire home/apt</td>\n",
       "      <td>{TV,\"Cable TV\",\"Wireless Internet\",\"Air condit...</td>\n",
       "      <td>5</td>\n",
       "      <td>1.0</td>\n",
       "      <td>Real Bed</td>\n",
       "      <td>moderate</td>\n",
       "      <td>True</td>\n",
       "      <td>NYC</td>\n",
       "      <td>...</td>\n",
       "      <td>The Garden Oasis</td>\n",
       "      <td>Harlem</td>\n",
       "      <td>10</td>\n",
       "      <td>92.0</td>\n",
       "      <td>https://a0.muscache.com/im/pictures/6fae5362-9...</td>\n",
       "      <td>10027</td>\n",
       "      <td>1.0</td>\n",
       "      <td>3.0</td>\n",
       "      <td>4.976734</td>\n",
       "      <td>NaN</td>\n",
       "    </tr>\n",
       "    <tr>\n",
       "      <th>3</th>\n",
       "      <td>13418779</td>\n",
       "      <td>House</td>\n",
       "      <td>Entire home/apt</td>\n",
       "      <td>{TV,\"Cable TV\",Internet,\"Wireless Internet\",Ki...</td>\n",
       "      <td>4</td>\n",
       "      <td>1.0</td>\n",
       "      <td>Real Bed</td>\n",
       "      <td>flexible</td>\n",
       "      <td>True</td>\n",
       "      <td>SF</td>\n",
       "      <td>...</td>\n",
       "      <td>Beautiful Flat in the Heart of SF!</td>\n",
       "      <td>Lower Haight</td>\n",
       "      <td>0</td>\n",
       "      <td>NaN</td>\n",
       "      <td>https://a0.muscache.com/im/pictures/72208dad-9...</td>\n",
       "      <td>94117</td>\n",
       "      <td>2.0</td>\n",
       "      <td>2.0</td>\n",
       "      <td>6.620073</td>\n",
       "      <td>NaN</td>\n",
       "    </tr>\n",
       "    <tr>\n",
       "      <th>4</th>\n",
       "      <td>3808709</td>\n",
       "      <td>Apartment</td>\n",
       "      <td>Entire home/apt</td>\n",
       "      <td>{TV,Internet,\"Wireless Internet\",\"Air conditio...</td>\n",
       "      <td>2</td>\n",
       "      <td>1.0</td>\n",
       "      <td>Real Bed</td>\n",
       "      <td>moderate</td>\n",
       "      <td>True</td>\n",
       "      <td>DC</td>\n",
       "      <td>...</td>\n",
       "      <td>Great studio in midtown DC</td>\n",
       "      <td>Columbia Heights</td>\n",
       "      <td>4</td>\n",
       "      <td>40.0</td>\n",
       "      <td>NaN</td>\n",
       "      <td>20009</td>\n",
       "      <td>0.0</td>\n",
       "      <td>1.0</td>\n",
       "      <td>4.744932</td>\n",
       "      <td>NaN</td>\n",
       "    </tr>\n",
       "  </tbody>\n",
       "</table>\n",
       "<p>5 rows × 30 columns</p>\n",
       "</div>"
      ],
      "text/plain": [
       "         id property_type        room_type  \\\n",
       "0   6901257     Apartment  Entire home/apt   \n",
       "1   6304928     Apartment  Entire home/apt   \n",
       "2   7919400     Apartment  Entire home/apt   \n",
       "3  13418779         House  Entire home/apt   \n",
       "4   3808709     Apartment  Entire home/apt   \n",
       "\n",
       "                                           amenities  accommodates  bathrooms  \\\n",
       "0  {\"Wireless Internet\",\"Air conditioning\",Kitche...             3        1.0   \n",
       "1  {\"Wireless Internet\",\"Air conditioning\",Kitche...             7        1.0   \n",
       "2  {TV,\"Cable TV\",\"Wireless Internet\",\"Air condit...             5        1.0   \n",
       "3  {TV,\"Cable TV\",Internet,\"Wireless Internet\",Ki...             4        1.0   \n",
       "4  {TV,Internet,\"Wireless Internet\",\"Air conditio...             2        1.0   \n",
       "\n",
       "   bed_type cancellation_policy  cleaning_fee city  ...  \\\n",
       "0  Real Bed              strict          True  NYC  ...   \n",
       "1  Real Bed              strict          True  NYC  ...   \n",
       "2  Real Bed            moderate          True  NYC  ...   \n",
       "3  Real Bed            flexible          True   SF  ...   \n",
       "4  Real Bed            moderate          True   DC  ...   \n",
       "\n",
       "                                       name     neighbourhood  \\\n",
       "0            Beautiful brownstone 1-bedroom  Brooklyn Heights   \n",
       "1  Superb 3BR Apt Located Near Times Square    Hell's Kitchen   \n",
       "2                          The Garden Oasis            Harlem   \n",
       "3        Beautiful Flat in the Heart of SF!      Lower Haight   \n",
       "4                Great studio in midtown DC  Columbia Heights   \n",
       "\n",
       "  number_of_reviews review_scores_rating  \\\n",
       "0                 2                100.0   \n",
       "1                 6                 93.0   \n",
       "2                10                 92.0   \n",
       "3                 0                  NaN   \n",
       "4                 4                 40.0   \n",
       "\n",
       "                                       thumbnail_url zipcode bedrooms beds  \\\n",
       "0  https://a0.muscache.com/im/pictures/6d7cbbf7-c...   11201      1.0  1.0   \n",
       "1  https://a0.muscache.com/im/pictures/348a55fe-4...   10019      3.0  3.0   \n",
       "2  https://a0.muscache.com/im/pictures/6fae5362-9...   10027      1.0  3.0   \n",
       "3  https://a0.muscache.com/im/pictures/72208dad-9...   94117      2.0  2.0   \n",
       "4                                                NaN   20009      0.0  1.0   \n",
       "\n",
       "   log_price      \n",
       "0   5.010635 NaN  \n",
       "1   5.129899 NaN  \n",
       "2   4.976734 NaN  \n",
       "3   6.620073 NaN  \n",
       "4   4.744932 NaN  \n",
       "\n",
       "[5 rows x 30 columns]"
      ]
     },
     "execution_count": 4,
     "metadata": {},
     "output_type": "execute_result"
    }
   ],
   "source": [
    "train_data.head()"
   ]
  },
  {
   "cell_type": "code",
   "execution_count": 5,
   "metadata": {},
   "outputs": [
    {
     "data": {
      "text/plain": [
       "Index(['id', 'property_type', 'room_type', 'amenities', 'accommodates',\n",
       "       'bathrooms', 'bed_type', 'cancellation_policy', 'cleaning_fee', 'city',\n",
       "       'description', 'first_review', 'host_has_profile_pic',\n",
       "       'host_identity_verified', 'host_response_rate', 'host_since',\n",
       "       'instant_bookable', 'last_review', 'latitude', 'longitude', 'name',\n",
       "       'neighbourhood', 'number_of_reviews', 'review_scores_rating',\n",
       "       'thumbnail_url', 'zipcode', 'bedrooms', 'beds', 'log_price', ' '],\n",
       "      dtype='object')"
      ]
     },
     "execution_count": 5,
     "metadata": {},
     "output_type": "execute_result"
    }
   ],
   "source": [
    "train_data.columns"
   ]
  },
  {
   "cell_type": "code",
   "execution_count": 6,
   "metadata": {},
   "outputs": [],
   "source": [
    "train_data.drop([' ','thumbnail_url', 'latitude','longitude' ,'description', 'name','zipcode','neighbourhood'],axis=1,inplace=True)\n",
    "test_data.drop([' ','thumbnail_url', 'latitude','longitude' ,'description', 'name','zipcode','neighbourhood'],axis=1,inplace=True)"
   ]
  },
  {
   "cell_type": "code",
   "execution_count": 7,
   "metadata": {},
   "outputs": [
    {
     "data": {
      "text/html": [
       "<div>\n",
       "<style scoped>\n",
       "    .dataframe tbody tr th:only-of-type {\n",
       "        vertical-align: middle;\n",
       "    }\n",
       "\n",
       "    .dataframe tbody tr th {\n",
       "        vertical-align: top;\n",
       "    }\n",
       "\n",
       "    .dataframe thead th {\n",
       "        text-align: right;\n",
       "    }\n",
       "</style>\n",
       "<table border=\"1\" class=\"dataframe\">\n",
       "  <thead>\n",
       "    <tr style=\"text-align: right;\">\n",
       "      <th></th>\n",
       "      <th>id</th>\n",
       "      <th>property_type</th>\n",
       "      <th>room_type</th>\n",
       "      <th>amenities</th>\n",
       "      <th>accommodates</th>\n",
       "      <th>bathrooms</th>\n",
       "      <th>bed_type</th>\n",
       "      <th>cancellation_policy</th>\n",
       "      <th>cleaning_fee</th>\n",
       "      <th>city</th>\n",
       "      <th>...</th>\n",
       "      <th>host_identity_verified</th>\n",
       "      <th>host_response_rate</th>\n",
       "      <th>host_since</th>\n",
       "      <th>instant_bookable</th>\n",
       "      <th>last_review</th>\n",
       "      <th>number_of_reviews</th>\n",
       "      <th>review_scores_rating</th>\n",
       "      <th>bedrooms</th>\n",
       "      <th>beds</th>\n",
       "      <th>log_price</th>\n",
       "    </tr>\n",
       "  </thead>\n",
       "  <tbody>\n",
       "    <tr>\n",
       "      <th>0</th>\n",
       "      <td>6901257</td>\n",
       "      <td>Apartment</td>\n",
       "      <td>Entire home/apt</td>\n",
       "      <td>{\"Wireless Internet\",\"Air conditioning\",Kitche...</td>\n",
       "      <td>3</td>\n",
       "      <td>1.0</td>\n",
       "      <td>Real Bed</td>\n",
       "      <td>strict</td>\n",
       "      <td>True</td>\n",
       "      <td>NYC</td>\n",
       "      <td>...</td>\n",
       "      <td>t</td>\n",
       "      <td>NaN</td>\n",
       "      <td>3/26/2012</td>\n",
       "      <td>f</td>\n",
       "      <td>7/18/2016</td>\n",
       "      <td>2</td>\n",
       "      <td>100.0</td>\n",
       "      <td>1.0</td>\n",
       "      <td>1.0</td>\n",
       "      <td>5.010635</td>\n",
       "    </tr>\n",
       "    <tr>\n",
       "      <th>1</th>\n",
       "      <td>6304928</td>\n",
       "      <td>Apartment</td>\n",
       "      <td>Entire home/apt</td>\n",
       "      <td>{\"Wireless Internet\",\"Air conditioning\",Kitche...</td>\n",
       "      <td>7</td>\n",
       "      <td>1.0</td>\n",
       "      <td>Real Bed</td>\n",
       "      <td>strict</td>\n",
       "      <td>True</td>\n",
       "      <td>NYC</td>\n",
       "      <td>...</td>\n",
       "      <td>f</td>\n",
       "      <td>100%</td>\n",
       "      <td>6/19/2017</td>\n",
       "      <td>t</td>\n",
       "      <td>9/23/2017</td>\n",
       "      <td>6</td>\n",
       "      <td>93.0</td>\n",
       "      <td>3.0</td>\n",
       "      <td>3.0</td>\n",
       "      <td>5.129899</td>\n",
       "    </tr>\n",
       "    <tr>\n",
       "      <th>2</th>\n",
       "      <td>7919400</td>\n",
       "      <td>Apartment</td>\n",
       "      <td>Entire home/apt</td>\n",
       "      <td>{TV,\"Cable TV\",\"Wireless Internet\",\"Air condit...</td>\n",
       "      <td>5</td>\n",
       "      <td>1.0</td>\n",
       "      <td>Real Bed</td>\n",
       "      <td>moderate</td>\n",
       "      <td>True</td>\n",
       "      <td>NYC</td>\n",
       "      <td>...</td>\n",
       "      <td>t</td>\n",
       "      <td>100%</td>\n",
       "      <td>10/25/2016</td>\n",
       "      <td>t</td>\n",
       "      <td>9/14/2017</td>\n",
       "      <td>10</td>\n",
       "      <td>92.0</td>\n",
       "      <td>1.0</td>\n",
       "      <td>3.0</td>\n",
       "      <td>4.976734</td>\n",
       "    </tr>\n",
       "    <tr>\n",
       "      <th>3</th>\n",
       "      <td>13418779</td>\n",
       "      <td>House</td>\n",
       "      <td>Entire home/apt</td>\n",
       "      <td>{TV,\"Cable TV\",Internet,\"Wireless Internet\",Ki...</td>\n",
       "      <td>4</td>\n",
       "      <td>1.0</td>\n",
       "      <td>Real Bed</td>\n",
       "      <td>flexible</td>\n",
       "      <td>True</td>\n",
       "      <td>SF</td>\n",
       "      <td>...</td>\n",
       "      <td>t</td>\n",
       "      <td>NaN</td>\n",
       "      <td>4/19/2015</td>\n",
       "      <td>f</td>\n",
       "      <td>NaN</td>\n",
       "      <td>0</td>\n",
       "      <td>NaN</td>\n",
       "      <td>2.0</td>\n",
       "      <td>2.0</td>\n",
       "      <td>6.620073</td>\n",
       "    </tr>\n",
       "    <tr>\n",
       "      <th>4</th>\n",
       "      <td>3808709</td>\n",
       "      <td>Apartment</td>\n",
       "      <td>Entire home/apt</td>\n",
       "      <td>{TV,Internet,\"Wireless Internet\",\"Air conditio...</td>\n",
       "      <td>2</td>\n",
       "      <td>1.0</td>\n",
       "      <td>Real Bed</td>\n",
       "      <td>moderate</td>\n",
       "      <td>True</td>\n",
       "      <td>DC</td>\n",
       "      <td>...</td>\n",
       "      <td>t</td>\n",
       "      <td>100%</td>\n",
       "      <td>03-01-2015</td>\n",
       "      <td>t</td>\n",
       "      <td>1/22/2017</td>\n",
       "      <td>4</td>\n",
       "      <td>40.0</td>\n",
       "      <td>0.0</td>\n",
       "      <td>1.0</td>\n",
       "      <td>4.744932</td>\n",
       "    </tr>\n",
       "  </tbody>\n",
       "</table>\n",
       "<p>5 rows × 22 columns</p>\n",
       "</div>"
      ],
      "text/plain": [
       "         id property_type        room_type  \\\n",
       "0   6901257     Apartment  Entire home/apt   \n",
       "1   6304928     Apartment  Entire home/apt   \n",
       "2   7919400     Apartment  Entire home/apt   \n",
       "3  13418779         House  Entire home/apt   \n",
       "4   3808709     Apartment  Entire home/apt   \n",
       "\n",
       "                                           amenities  accommodates  bathrooms  \\\n",
       "0  {\"Wireless Internet\",\"Air conditioning\",Kitche...             3        1.0   \n",
       "1  {\"Wireless Internet\",\"Air conditioning\",Kitche...             7        1.0   \n",
       "2  {TV,\"Cable TV\",\"Wireless Internet\",\"Air condit...             5        1.0   \n",
       "3  {TV,\"Cable TV\",Internet,\"Wireless Internet\",Ki...             4        1.0   \n",
       "4  {TV,Internet,\"Wireless Internet\",\"Air conditio...             2        1.0   \n",
       "\n",
       "   bed_type cancellation_policy  cleaning_fee city  ...  \\\n",
       "0  Real Bed              strict          True  NYC  ...   \n",
       "1  Real Bed              strict          True  NYC  ...   \n",
       "2  Real Bed            moderate          True  NYC  ...   \n",
       "3  Real Bed            flexible          True   SF  ...   \n",
       "4  Real Bed            moderate          True   DC  ...   \n",
       "\n",
       "  host_identity_verified host_response_rate  host_since instant_bookable  \\\n",
       "0                      t                NaN   3/26/2012                f   \n",
       "1                      f               100%   6/19/2017                t   \n",
       "2                      t               100%  10/25/2016                t   \n",
       "3                      t                NaN   4/19/2015                f   \n",
       "4                      t               100%  03-01-2015                t   \n",
       "\n",
       "  last_review number_of_reviews review_scores_rating  bedrooms  beds  \\\n",
       "0   7/18/2016                 2                100.0       1.0   1.0   \n",
       "1   9/23/2017                 6                 93.0       3.0   3.0   \n",
       "2   9/14/2017                10                 92.0       1.0   3.0   \n",
       "3         NaN                 0                  NaN       2.0   2.0   \n",
       "4   1/22/2017                 4                 40.0       0.0   1.0   \n",
       "\n",
       "   log_price  \n",
       "0   5.010635  \n",
       "1   5.129899  \n",
       "2   4.976734  \n",
       "3   6.620073  \n",
       "4   4.744932  \n",
       "\n",
       "[5 rows x 22 columns]"
      ]
     },
     "execution_count": 7,
     "metadata": {},
     "output_type": "execute_result"
    }
   ],
   "source": [
    "train_data.head()"
   ]
  },
  {
   "cell_type": "code",
   "execution_count": 8,
   "metadata": {},
   "outputs": [
    {
     "data": {
      "text/html": [
       "<div>\n",
       "<style scoped>\n",
       "    .dataframe tbody tr th:only-of-type {\n",
       "        vertical-align: middle;\n",
       "    }\n",
       "\n",
       "    .dataframe tbody tr th {\n",
       "        vertical-align: top;\n",
       "    }\n",
       "\n",
       "    .dataframe thead th {\n",
       "        text-align: right;\n",
       "    }\n",
       "</style>\n",
       "<table border=\"1\" class=\"dataframe\">\n",
       "  <thead>\n",
       "    <tr style=\"text-align: right;\">\n",
       "      <th></th>\n",
       "      <th>id</th>\n",
       "      <th>property_type</th>\n",
       "      <th>room_type</th>\n",
       "      <th>amenities</th>\n",
       "      <th>accommodates</th>\n",
       "      <th>bathrooms</th>\n",
       "      <th>bed_type</th>\n",
       "      <th>cancellation_policy</th>\n",
       "      <th>cleaning_fee</th>\n",
       "      <th>city</th>\n",
       "      <th>...</th>\n",
       "      <th>host_has_profile_pic</th>\n",
       "      <th>host_identity_verified</th>\n",
       "      <th>host_response_rate</th>\n",
       "      <th>host_since</th>\n",
       "      <th>instant_bookable</th>\n",
       "      <th>last_review</th>\n",
       "      <th>number_of_reviews</th>\n",
       "      <th>review_scores_rating</th>\n",
       "      <th>bedrooms</th>\n",
       "      <th>beds</th>\n",
       "    </tr>\n",
       "  </thead>\n",
       "  <tbody>\n",
       "    <tr>\n",
       "      <th>0</th>\n",
       "      <td>5979389</td>\n",
       "      <td>Apartment</td>\n",
       "      <td>Private room</td>\n",
       "      <td>{\"Wireless Internet\",\"Air conditioning\",Kitche...</td>\n",
       "      <td>2</td>\n",
       "      <td>1.0</td>\n",
       "      <td>Real Bed</td>\n",
       "      <td>strict</td>\n",
       "      <td>True</td>\n",
       "      <td>NYC</td>\n",
       "      <td>...</td>\n",
       "      <td>t</td>\n",
       "      <td>t</td>\n",
       "      <td>1.0</td>\n",
       "      <td>2015-05-29</td>\n",
       "      <td>f</td>\n",
       "      <td>NaT</td>\n",
       "      <td>0</td>\n",
       "      <td>NaN</td>\n",
       "      <td>1.0</td>\n",
       "      <td>1.0</td>\n",
       "    </tr>\n",
       "    <tr>\n",
       "      <th>1</th>\n",
       "      <td>13488121</td>\n",
       "      <td>Apartment</td>\n",
       "      <td>Entire home/apt</td>\n",
       "      <td>{TV,\"Cable TV\",Internet,\"Wireless Internet\",\"A...</td>\n",
       "      <td>4</td>\n",
       "      <td>1.0</td>\n",
       "      <td>Real Bed</td>\n",
       "      <td>moderate</td>\n",
       "      <td>True</td>\n",
       "      <td>LA</td>\n",
       "      <td>...</td>\n",
       "      <td>t</td>\n",
       "      <td>t</td>\n",
       "      <td>1.0</td>\n",
       "      <td>2015-08-17</td>\n",
       "      <td>f</td>\n",
       "      <td>2017-04-23</td>\n",
       "      <td>24</td>\n",
       "      <td>100.0</td>\n",
       "      <td>1.0</td>\n",
       "      <td>1.0</td>\n",
       "    </tr>\n",
       "    <tr>\n",
       "      <th>2</th>\n",
       "      <td>8121643</td>\n",
       "      <td>Apartment</td>\n",
       "      <td>Private room</td>\n",
       "      <td>{TV,\"Cable TV\",Internet,\"Wireless Internet\",\"A...</td>\n",
       "      <td>2</td>\n",
       "      <td>1.0</td>\n",
       "      <td>Real Bed</td>\n",
       "      <td>flexible</td>\n",
       "      <td>False</td>\n",
       "      <td>NYC</td>\n",
       "      <td>...</td>\n",
       "      <td>t</td>\n",
       "      <td>f</td>\n",
       "      <td>NaN</td>\n",
       "      <td>2012-06-18</td>\n",
       "      <td>f</td>\n",
       "      <td>NaT</td>\n",
       "      <td>0</td>\n",
       "      <td>NaN</td>\n",
       "      <td>1.0</td>\n",
       "      <td>1.0</td>\n",
       "    </tr>\n",
       "    <tr>\n",
       "      <th>3</th>\n",
       "      <td>16490010</td>\n",
       "      <td>Apartment</td>\n",
       "      <td>Private room</td>\n",
       "      <td>{Internet,\"Wireless Internet\",\"Air conditionin...</td>\n",
       "      <td>2</td>\n",
       "      <td>1.0</td>\n",
       "      <td>Real Bed</td>\n",
       "      <td>flexible</td>\n",
       "      <td>True</td>\n",
       "      <td>NYC</td>\n",
       "      <td>...</td>\n",
       "      <td>t</td>\n",
       "      <td>t</td>\n",
       "      <td>1.0</td>\n",
       "      <td>2011-12-12</td>\n",
       "      <td>f</td>\n",
       "      <td>2017-09-24</td>\n",
       "      <td>12</td>\n",
       "      <td>98.0</td>\n",
       "      <td>1.0</td>\n",
       "      <td>1.0</td>\n",
       "    </tr>\n",
       "    <tr>\n",
       "      <th>4</th>\n",
       "      <td>16274069</td>\n",
       "      <td>Apartment</td>\n",
       "      <td>Entire home/apt</td>\n",
       "      <td>{TV,Internet,\"Wireless Internet\",\"Air conditio...</td>\n",
       "      <td>4</td>\n",
       "      <td>1.0</td>\n",
       "      <td>Real Bed</td>\n",
       "      <td>moderate</td>\n",
       "      <td>True</td>\n",
       "      <td>NYC</td>\n",
       "      <td>...</td>\n",
       "      <td>t</td>\n",
       "      <td>f</td>\n",
       "      <td>1.0</td>\n",
       "      <td>2014-11-02</td>\n",
       "      <td>f</td>\n",
       "      <td>2017-09-14</td>\n",
       "      <td>13</td>\n",
       "      <td>92.0</td>\n",
       "      <td>2.0</td>\n",
       "      <td>3.0</td>\n",
       "    </tr>\n",
       "  </tbody>\n",
       "</table>\n",
       "<p>5 rows × 21 columns</p>\n",
       "</div>"
      ],
      "text/plain": [
       "         id property_type        room_type  \\\n",
       "0   5979389     Apartment     Private room   \n",
       "1  13488121     Apartment  Entire home/apt   \n",
       "2   8121643     Apartment     Private room   \n",
       "3  16490010     Apartment     Private room   \n",
       "4  16274069     Apartment  Entire home/apt   \n",
       "\n",
       "                                           amenities  accommodates  bathrooms  \\\n",
       "0  {\"Wireless Internet\",\"Air conditioning\",Kitche...             2        1.0   \n",
       "1  {TV,\"Cable TV\",Internet,\"Wireless Internet\",\"A...             4        1.0   \n",
       "2  {TV,\"Cable TV\",Internet,\"Wireless Internet\",\"A...             2        1.0   \n",
       "3  {Internet,\"Wireless Internet\",\"Air conditionin...             2        1.0   \n",
       "4  {TV,Internet,\"Wireless Internet\",\"Air conditio...             4        1.0   \n",
       "\n",
       "   bed_type cancellation_policy  cleaning_fee city  ... host_has_profile_pic  \\\n",
       "0  Real Bed              strict          True  NYC  ...                    t   \n",
       "1  Real Bed            moderate          True   LA  ...                    t   \n",
       "2  Real Bed            flexible         False  NYC  ...                    t   \n",
       "3  Real Bed            flexible          True  NYC  ...                    t   \n",
       "4  Real Bed            moderate          True  NYC  ...                    t   \n",
       "\n",
       "  host_identity_verified host_response_rate  host_since instant_bookable  \\\n",
       "0                      t                1.0  2015-05-29                f   \n",
       "1                      t                1.0  2015-08-17                f   \n",
       "2                      f                NaN  2012-06-18                f   \n",
       "3                      t                1.0  2011-12-12                f   \n",
       "4                      f                1.0  2014-11-02                f   \n",
       "\n",
       "  last_review number_of_reviews  review_scores_rating  bedrooms  beds  \n",
       "0         NaT                 0                   NaN       1.0   1.0  \n",
       "1  2017-04-23                24                 100.0       1.0   1.0  \n",
       "2         NaT                 0                   NaN       1.0   1.0  \n",
       "3  2017-09-24                12                  98.0       1.0   1.0  \n",
       "4  2017-09-14                13                  92.0       2.0   3.0  \n",
       "\n",
       "[5 rows x 21 columns]"
      ]
     },
     "execution_count": 8,
     "metadata": {},
     "output_type": "execute_result"
    }
   ],
   "source": [
    "test_data.head()"
   ]
  },
  {
   "cell_type": "markdown",
   "metadata": {},
   "source": [
    "# Exploratory Data Analysis"
   ]
  },
  {
   "cell_type": "code",
   "execution_count": 9,
   "metadata": {},
   "outputs": [],
   "source": [
    "from matplotlib import pyplot as plt\n",
    "import warnings\n",
    "%matplotlib inline\n",
    "warnings.filterwarnings(\"ignore\")"
   ]
  },
  {
   "cell_type": "code",
   "execution_count": 10,
   "metadata": {},
   "outputs": [
    {
     "data": {
      "image/png": "[encoded data removed]",
      "text/plain": [
       "<Figure size 720x504 with 1 Axes>"
      ]
     },
     "metadata": {
      "needs_background": "light"
     },
     "output_type": "display_data"
    }
   ],
   "source": [
    "plt.figure(figsize=(10,7))\n",
    "train_data.corr()['log_price'].sort_values().iloc[:-1].plot.bar();"
   ]
  },
  {
   "cell_type": "code",
   "execution_count": 11,
   "metadata": {},
   "outputs": [
    {
     "data": {
      "image/png": "[encoded data removed]",
      "text/plain": [
       "<Figure size 432x288 with 1 Axes>"
      ]
     },
     "metadata": {
      "needs_background": "light"
     },
     "output_type": "display_data"
    }
   ],
   "source": [
    "train_data.plot(kind = 'scatter' ,x = 'log_price',y = 'review_scores_rating',color='blue' )\n",
    "plt.show()"
   ]
  },
  {
   "cell_type": "code",
   "execution_count": 12,
   "metadata": {},
   "outputs": [
    {
     "data": {
      "text/html": [
       "<div>\n",
       "<style scoped>\n",
       "    .dataframe tbody tr th:only-of-type {\n",
       "        vertical-align: middle;\n",
       "    }\n",
       "\n",
       "    .dataframe tbody tr th {\n",
       "        vertical-align: top;\n",
       "    }\n",
       "\n",
       "    .dataframe thead th {\n",
       "        text-align: right;\n",
       "    }\n",
       "</style>\n",
       "<table border=\"1\" class=\"dataframe\">\n",
       "  <thead>\n",
       "    <tr style=\"text-align: right;\">\n",
       "      <th></th>\n",
       "      <th>id</th>\n",
       "      <th>accommodates</th>\n",
       "      <th>bathrooms</th>\n",
       "      <th>cleaning_fee</th>\n",
       "      <th>number_of_reviews</th>\n",
       "      <th>review_scores_rating</th>\n",
       "      <th>bedrooms</th>\n",
       "      <th>beds</th>\n",
       "      <th>log_price</th>\n",
       "    </tr>\n",
       "  </thead>\n",
       "  <tbody>\n",
       "    <tr>\n",
       "      <th>id</th>\n",
       "      <td>1.000000</td>\n",
       "      <td>-0.003457</td>\n",
       "      <td>0.002840</td>\n",
       "      <td>-0.003461</td>\n",
       "      <td>0.002851</td>\n",
       "      <td>0.001507</td>\n",
       "      <td>-0.004455</td>\n",
       "      <td>-0.007599</td>\n",
       "      <td>-0.000612</td>\n",
       "    </tr>\n",
       "    <tr>\n",
       "      <th>accommodates</th>\n",
       "      <td>-0.003457</td>\n",
       "      <td>1.000000</td>\n",
       "      <td>0.500622</td>\n",
       "      <td>0.181031</td>\n",
       "      <td>0.040093</td>\n",
       "      <td>-0.016286</td>\n",
       "      <td>0.707357</td>\n",
       "      <td>0.807453</td>\n",
       "      <td>0.568918</td>\n",
       "    </tr>\n",
       "    <tr>\n",
       "      <th>bathrooms</th>\n",
       "      <td>0.002840</td>\n",
       "      <td>0.500622</td>\n",
       "      <td>1.000000</td>\n",
       "      <td>0.055397</td>\n",
       "      <td>-0.039583</td>\n",
       "      <td>0.011580</td>\n",
       "      <td>0.583860</td>\n",
       "      <td>0.521524</td>\n",
       "      <td>0.348615</td>\n",
       "    </tr>\n",
       "    <tr>\n",
       "      <th>cleaning_fee</th>\n",
       "      <td>-0.003461</td>\n",
       "      <td>0.181031</td>\n",
       "      <td>0.055397</td>\n",
       "      <td>1.000000</td>\n",
       "      <td>0.106926</td>\n",
       "      <td>0.037181</td>\n",
       "      <td>0.105744</td>\n",
       "      <td>0.131194</td>\n",
       "      <td>0.109189</td>\n",
       "    </tr>\n",
       "    <tr>\n",
       "      <th>number_of_reviews</th>\n",
       "      <td>0.002851</td>\n",
       "      <td>0.040093</td>\n",
       "      <td>-0.039583</td>\n",
       "      <td>0.106926</td>\n",
       "      <td>1.000000</td>\n",
       "      <td>0.014217</td>\n",
       "      <td>-0.034978</td>\n",
       "      <td>0.030536</td>\n",
       "      <td>-0.029925</td>\n",
       "    </tr>\n",
       "    <tr>\n",
       "      <th>review_scores_rating</th>\n",
       "      <td>0.001507</td>\n",
       "      <td>-0.016286</td>\n",
       "      <td>0.011580</td>\n",
       "      <td>0.037181</td>\n",
       "      <td>0.014217</td>\n",
       "      <td>1.000000</td>\n",
       "      <td>0.008241</td>\n",
       "      <td>-0.028997</td>\n",
       "      <td>0.091194</td>\n",
       "    </tr>\n",
       "    <tr>\n",
       "      <th>bedrooms</th>\n",
       "      <td>-0.004455</td>\n",
       "      <td>0.707357</td>\n",
       "      <td>0.583860</td>\n",
       "      <td>0.105744</td>\n",
       "      <td>-0.034978</td>\n",
       "      <td>0.008241</td>\n",
       "      <td>1.000000</td>\n",
       "      <td>0.711560</td>\n",
       "      <td>0.474068</td>\n",
       "    </tr>\n",
       "    <tr>\n",
       "      <th>beds</th>\n",
       "      <td>-0.007599</td>\n",
       "      <td>0.807453</td>\n",
       "      <td>0.521524</td>\n",
       "      <td>0.131194</td>\n",
       "      <td>0.030536</td>\n",
       "      <td>-0.028997</td>\n",
       "      <td>0.711560</td>\n",
       "      <td>1.000000</td>\n",
       "      <td>0.444780</td>\n",
       "    </tr>\n",
       "    <tr>\n",
       "      <th>log_price</th>\n",
       "      <td>-0.000612</td>\n",
       "      <td>0.568918</td>\n",
       "      <td>0.348615</td>\n",
       "      <td>0.109189</td>\n",
       "      <td>-0.029925</td>\n",
       "      <td>0.091194</td>\n",
       "      <td>0.474068</td>\n",
       "      <td>0.444780</td>\n",
       "      <td>1.000000</td>\n",
       "    </tr>\n",
       "  </tbody>\n",
       "</table>\n",
       "</div>"
      ],
      "text/plain": [
       "                            id  accommodates  bathrooms  cleaning_fee  \\\n",
       "id                    1.000000     -0.003457   0.002840     -0.003461   \n",
       "accommodates         -0.003457      1.000000   0.500622      0.181031   \n",
       "bathrooms             0.002840      0.500622   1.000000      0.055397   \n",
       "cleaning_fee         -0.003461      0.181031   0.055397      1.000000   \n",
       "number_of_reviews     0.002851      0.040093  -0.039583      0.106926   \n",
       "review_scores_rating  0.001507     -0.016286   0.011580      0.037181   \n",
       "bedrooms             -0.004455      0.707357   0.583860      0.105744   \n",
       "beds                 -0.007599      0.807453   0.521524      0.131194   \n",
       "log_price            -0.000612      0.568918   0.348615      0.109189   \n",
       "\n",
       "                      number_of_reviews  review_scores_rating  bedrooms  \\\n",
       "id                             0.002851              0.001507 -0.004455   \n",
       "accommodates                   0.040093             -0.016286  0.707357   \n",
       "bathrooms                     -0.039583              0.011580  0.583860   \n",
       "cleaning_fee                   0.106926              0.037181  0.105744   \n",
       "number_of_reviews              1.000000              0.014217 -0.034978   \n",
       "review_scores_rating           0.014217              1.000000  0.008241   \n",
       "bedrooms                      -0.034978              0.008241  1.000000   \n",
       "beds                           0.030536             -0.028997  0.711560   \n",
       "log_price                     -0.029925              0.091194  0.474068   \n",
       "\n",
       "                          beds  log_price  \n",
       "id                   -0.007599  -0.000612  \n",
       "accommodates          0.807453   0.568918  \n",
       "bathrooms             0.521524   0.348615  \n",
       "cleaning_fee          0.131194   0.109189  \n",
       "number_of_reviews     0.030536  -0.029925  \n",
       "review_scores_rating -0.028997   0.091194  \n",
       "bedrooms              0.711560   0.474068  \n",
       "beds                  1.000000   0.444780  \n",
       "log_price             0.444780   1.000000  "
      ]
     },
     "execution_count": 12,
     "metadata": {},
     "output_type": "execute_result"
    }
   ],
   "source": [
    "train_data.corr()"
   ]
  },
  {
   "cell_type": "code",
   "execution_count": 13,
   "metadata": {},
   "outputs": [
    {
     "data": {
      "image/png": "[encoded data removed]",
      "text/plain": [
       "<Figure size 504x720 with 1 Axes>"
      ]
     },
     "metadata": {
      "needs_background": "light"
     },
     "output_type": "display_data"
    }
   ],
   "source": [
    "plt.figure(figsize=(7,10))\n",
    "train_data.groupby(\"accommodates\")[\"log_price\"].mean().sort_values().plot.barh()\n",
    "plt.xlabel('price', size=13);"
   ]
  },
  {
   "cell_type": "code",
   "execution_count": 14,
   "metadata": {},
   "outputs": [
    {
     "data": {
      "image/png": "[encoded data removed]",
      "text/plain": [
       "<Figure size 504x216 with 1 Axes>"
      ]
     },
     "metadata": {
      "needs_background": "light"
     },
     "output_type": "display_data"
    }
   ],
   "source": [
    "plt.figure(figsize=(7,3))\n",
    "\n",
    "train_data.room_type.value_counts(ascending=True).plot.barh()\n",
    "plt.xlabel('Number of listings', size=13);"
   ]
  },
  {
   "cell_type": "code",
   "execution_count": 15,
   "metadata": {},
   "outputs": [
    {
     "data": {
      "text/plain": [
       "room_type\n",
       "Entire home/apt    5.168301\n",
       "Private room       4.324253\n",
       "Shared room        3.854384\n",
       "Name: log_price, dtype: float64"
      ]
     },
     "execution_count": 15,
     "metadata": {},
     "output_type": "execute_result"
    }
   ],
   "source": [
    "train_data.groupby(\"room_type\")[\"log_price\"].mean()"
   ]
  },
  {
   "cell_type": "code",
   "execution_count": 16,
   "metadata": {},
   "outputs": [
    {
     "data": {
      "image/png": "[encoded data removed]",
      "text/plain": [
       "<Figure size 504x216 with 1 Axes>"
      ]
     },
     "metadata": {
      "needs_background": "light"
     },
     "output_type": "display_data"
    }
   ],
   "source": [
    "plt.figure(figsize=(7,3))\n",
    "train_data.groupby(\"room_type\")[\"log_price\"].mean().sort_values().plot.barh()\n",
    "plt.xlabel('price', size=13);"
   ]
  },
  {
   "cell_type": "code",
   "execution_count": 17,
   "metadata": {},
   "outputs": [
    {
     "data": {
      "image/png": "[encoded data removed]",
      "text/plain": [
       "<Figure size 360x360 with 1 Axes>"
      ]
     },
     "metadata": {
      "needs_background": "light"
     },
     "output_type": "display_data"
    }
   ],
   "source": [
    "import seaborn as sns\n",
    "\n",
    "sns.catplot(x=\"room_type\", y=\"log_price\", data=train_data)\n",
    "plt.xticks(rotation=45);"
   ]
  },
  {
   "cell_type": "code",
   "execution_count": 18,
   "metadata": {},
   "outputs": [
    {
     "name": "stdout",
     "output_type": "stream",
     "text": [
      "property_type : 0\n",
      "room_type : 0\n",
      "amenities : 0\n",
      "bed_type : 0\n",
      "cancellation_policy : 0\n",
      "city : 0\n",
      "first_review : 10711\n",
      "host_has_profile_pic : 127\n",
      "host_identity_verified : 127\n",
      "host_response_rate : 12338\n",
      "host_since : 127\n",
      "instant_bookable : 0\n",
      "last_review : 10683\n"
     ]
    }
   ],
   "source": [
    "#train_data\n",
    "for col in train_data.select_dtypes(['object']).columns:\n",
    "    print(col,':',train_data[col].isnull().sum())"
   ]
  },
  {
   "cell_type": "code",
   "execution_count": 19,
   "metadata": {},
   "outputs": [
    {
     "data": {
      "text/plain": [
       "id                            0\n",
       "property_type                 0\n",
       "room_type                     0\n",
       "amenities                     0\n",
       "accommodates                  0\n",
       "bathrooms                   146\n",
       "bed_type                      0\n",
       "cancellation_policy           0\n",
       "cleaning_fee                  0\n",
       "city                          0\n",
       "first_review              10711\n",
       "host_has_profile_pic        127\n",
       "host_identity_verified      127\n",
       "host_response_rate        12338\n",
       "host_since                  127\n",
       "instant_bookable              0\n",
       "last_review               10683\n",
       "number_of_reviews             0\n",
       "review_scores_rating      11301\n",
       "bedrooms                     62\n",
       "beds                         91\n",
       "log_price                     0\n",
       "dtype: int64"
      ]
     },
     "execution_count": 19,
     "metadata": {},
     "output_type": "execute_result"
    }
   ],
   "source": [
    "train_data.isnull().sum()"
   ]
  },
  {
   "cell_type": "code",
   "execution_count": 20,
   "metadata": {},
   "outputs": [
    {
     "data": {
      "text/plain": [
       "32"
      ]
     },
     "execution_count": 20,
     "metadata": {},
     "output_type": "execute_result"
    }
   ],
   "source": [
    "train_data['property_type'].nunique()"
   ]
  },
  {
   "cell_type": "code",
   "execution_count": 21,
   "metadata": {},
   "outputs": [
    {
     "data": {
      "text/plain": [
       "32"
      ]
     },
     "execution_count": 21,
     "metadata": {},
     "output_type": "execute_result"
    }
   ],
   "source": [
    "test_data['property_type'].nunique()"
   ]
  },
  {
   "cell_type": "code",
   "execution_count": 22,
   "metadata": {},
   "outputs": [],
   "source": [
    "# train_data\n",
    "train_data['host_response_rate']=train_data['host_response_rate'].str.replace(\"%\",\"\")\n",
    "\n",
    "# test_data\n",
    "test_data['host_response_rate']=train_data['host_response_rate'].str.replace(\"%\",\"\")"
   ]
  },
  {
   "cell_type": "code",
   "execution_count": 23,
   "metadata": {},
   "outputs": [],
   "source": [
    "#train_data\n",
    "train_data[\"instant_bookable\"]=np.where(train_data[\"instant_bookable\"]==\"t\",1,0)\n",
    "train_data[\"cleaning_fee\"]=np.where(train_data[\"cleaning_fee\"]==\"True\",1,0)\n",
    "train_data[\"host_has_profile_pic\"]=np.where(train_data[\"host_has_profile_pic\"]==\"t\",1,0)\n",
    "train_data['host_identity_verified']=np.where(train_data['host_identity_verified']==\"t\",1,0)\n",
    "\n",
    "#test_data\n",
    "test_data[\"instant_bookable\"]=np.where(test_data[\"instant_bookable\"]==\"t\",1,0)\n",
    "test_data[\"cleaning_fee\"]=np.where(test_data[\"cleaning_fee\"]==\"True\",1,0)\n",
    "test_data[\"host_has_profile_pic\"]=np.where(test_data[\"host_has_profile_pic\"]==\"t\",1,0)\n",
    "test_data['host_identity_verified']=np.where(test_data['host_identity_verified']==\"t\",1,0)"
   ]
  },
  {
   "cell_type": "code",
   "execution_count": 24,
   "metadata": {},
   "outputs": [],
   "source": [
    "#function to replace list of emenities with number of amenities in the list\n",
    "# train_data\n",
    "def amenities_num(var):\n",
    "  return (len(var.split(',')))\n",
    "train_data['amenities'] = train_data.amenities.apply(amenities_num)\n",
    "\n",
    "# test_data\n",
    "def amenities_num(var):\n",
    "  return (len(var.split(',')))\n",
    "test_data['amenities'] = test_data.amenities.apply(amenities_num)"
   ]
  },
  {
   "cell_type": "code",
   "execution_count": 25,
   "metadata": {},
   "outputs": [
    {
     "data": {
      "text/plain": [
       "68"
      ]
     },
     "execution_count": 25,
     "metadata": {},
     "output_type": "execute_result"
    }
   ],
   "source": [
    "train_data['amenities'].nunique()"
   ]
  },
  {
   "cell_type": "code",
   "execution_count": 26,
   "metadata": {},
   "outputs": [
    {
     "name": "stdout",
     "output_type": "stream",
     "text": [
      "<class 'pandas.core.frame.DataFrame'>\n",
      "RangeIndex: 24111 entries, 0 to 24110\n",
      "Data columns (total 21 columns):\n",
      " #   Column                  Non-Null Count  Dtype         \n",
      "---  ------                  --------------  -----         \n",
      " 0   id                      24111 non-null  int64         \n",
      " 1   property_type           24111 non-null  object        \n",
      " 2   room_type               24111 non-null  object        \n",
      " 3   amenities               24111 non-null  int64         \n",
      " 4   accommodates            24111 non-null  int64         \n",
      " 5   bathrooms               24057 non-null  float64       \n",
      " 6   bed_type                24111 non-null  object        \n",
      " 7   cancellation_policy     24111 non-null  object        \n",
      " 8   cleaning_fee            24111 non-null  int32         \n",
      " 9   city                    24111 non-null  object        \n",
      " 10  first_review            18958 non-null  datetime64[ns]\n",
      " 11  host_has_profile_pic    24111 non-null  int32         \n",
      " 12  host_identity_verified  24111 non-null  int32         \n",
      " 13  host_response_rate      18133 non-null  object        \n",
      " 14  host_since              24050 non-null  datetime64[ns]\n",
      " 15  instant_bookable        24111 non-null  int32         \n",
      " 16  last_review             18967 non-null  datetime64[ns]\n",
      " 17  number_of_reviews       24111 non-null  int64         \n",
      " 18  review_scores_rating    18690 non-null  float64       \n",
      " 19  bedrooms                24082 non-null  float64       \n",
      " 20  beds                    24071 non-null  float64       \n",
      "dtypes: datetime64[ns](3), float64(4), int32(4), int64(4), object(6)\n",
      "memory usage: 3.5+ MB\n"
     ]
    }
   ],
   "source": [
    "test_data.info()"
   ]
  },
  {
   "cell_type": "code",
   "execution_count": 27,
   "metadata": {},
   "outputs": [],
   "source": [
    "#train data\n",
    "train_data['Current Year']=2021\n",
    "train_data['last_review']=pd.DatetimeIndex(train_data['last_review']).year\n",
    "train_data['last_review_years']=train_data['Current Year']- train_data['last_review']\n",
    "\n",
    "#test data\n",
    "test_data['Current Year']=2021\n",
    "test_data['last_review']=pd.DatetimeIndex(test_data['last_review']).year\n",
    "test_data['last_review_years']=test_data['Current Year']- test_data['last_review']"
   ]
  },
  {
   "cell_type": "code",
   "execution_count": 28,
   "metadata": {},
   "outputs": [],
   "source": [
    "train_data['Current Year']=2021\n",
    "train_data['host_since']=pd.DatetimeIndex(train_data['host_since']).year\n",
    "train_data['host_since_years']=train_data['Current Year']- train_data['host_since']\n",
    "\n",
    "test_data['Current Year']=2021\n",
    "test_data['host_since']=pd.DatetimeIndex(test_data['host_since']).year\n",
    "test_data['host_since_years']=test_data['Current Year']- test_data['host_since']"
   ]
  },
  {
   "cell_type": "code",
   "execution_count": 29,
   "metadata": {},
   "outputs": [],
   "source": [
    "#train_data\n",
    "train_data.drop(['first_review','last_review','Current Year','host_since'],axis=1,inplace=True)\n",
    "\n",
    "#test_data\n",
    "test_data.drop(['first_review','last_review','Current Year','host_since'],axis=1,inplace=True)"
   ]
  },
  {
   "cell_type": "code",
   "execution_count": 30,
   "metadata": {},
   "outputs": [],
   "source": [
    "#train_data(numeric conversion)\n",
    "for col in ['host_since_years','host_response_rate']:\n",
    "    train_data[col]=pd.to_numeric(train_data[col],errors='coerce')\n",
    "\n",
    "#test_data(numeric conversion)\n",
    "for col in ['host_since_years','host_response_rate']:\n",
    "    test_data[col]=pd.to_numeric(test_data[col],errors='coerce')"
   ]
  },
  {
   "cell_type": "code",
   "execution_count": 31,
   "metadata": {},
   "outputs": [],
   "source": [
    "#train_data( handling missing values)\n",
    "train_data['bathrooms'].fillna(train_data['bathrooms'].mode()[0], inplace = True)\n",
    "train_data['review_scores_rating'].fillna(train_data['review_scores_rating'].mode()[0], inplace = True)\n",
    "train_data['beds'].fillna(train_data['beds'].mode()[0], inplace = True)\n",
    "train_data['bedrooms'].fillna(train_data['bedrooms'].mode()[0], inplace = True)\n",
    "train_data['host_response_rate'].fillna(train_data['host_response_rate'].mode()[0], inplace = True)\n",
    "train_data['host_since_years'].fillna(train_data['host_since_years'].mode()[0], inplace = True)\n",
    "train_data['last_review_years'].fillna(train_data['last_review_years'].mode()[0], inplace = True)\n",
    "\n",
    "#test_data( handling missing values)\n",
    "test_data['bathrooms'].fillna(test_data['bathrooms'].mode()[0], inplace = True)\n",
    "test_data['review_scores_rating'].fillna(test_data['review_scores_rating'].mode()[0], inplace = True)\n",
    "test_data['beds'].fillna(test_data['beds'].mode()[0], inplace = True)\n",
    "test_data['bedrooms'].fillna(test_data['bedrooms'].mode()[0], inplace = True)\n",
    "test_data['host_response_rate'].fillna(test_data['host_response_rate'].mode()[0], inplace = True)\n",
    "test_data['host_since_years'].fillna(test_data['host_since_years'].mode()[0], inplace = True)\n",
    "test_data['last_review_years'].fillna(test_data['last_review_years'].mode()[0], inplace = True)"
   ]
  },
  {
   "cell_type": "code",
   "execution_count": 32,
   "metadata": {},
   "outputs": [
    {
     "data": {
      "text/plain": [
       "id                        0\n",
       "property_type             0\n",
       "room_type                 0\n",
       "amenities                 0\n",
       "accommodates              0\n",
       "bathrooms                 0\n",
       "bed_type                  0\n",
       "cancellation_policy       0\n",
       "cleaning_fee              0\n",
       "city                      0\n",
       "host_has_profile_pic      0\n",
       "host_identity_verified    0\n",
       "host_response_rate        0\n",
       "instant_bookable          0\n",
       "number_of_reviews         0\n",
       "review_scores_rating      0\n",
       "bedrooms                  0\n",
       "beds                      0\n",
       "log_price                 0\n",
       "last_review_years         0\n",
       "host_since_years          0\n",
       "dtype: int64"
      ]
     },
     "execution_count": 32,
     "metadata": {},
     "output_type": "execute_result"
    }
   ],
   "source": [
    "#train data (check missing values)\n",
    "train_data.isnull().sum()"
   ]
  },
  {
   "cell_type": "code",
   "execution_count": 33,
   "metadata": {},
   "outputs": [
    {
     "name": "stdout",
     "output_type": "stream",
     "text": [
      "property_type : 32\n",
      "room_type : 3\n",
      "bed_type : 5\n",
      "cancellation_policy : 5\n",
      "city : 6\n"
     ]
    }
   ],
   "source": [
    "#train_data( create dummies to the categorical varaibles)\n",
    "\n",
    "for col in train_data.select_dtypes(['object']).columns:\n",
    "    print(col,':',train_data[col].nunique())"
   ]
  },
  {
   "cell_type": "code",
   "execution_count": 34,
   "metadata": {},
   "outputs": [],
   "source": [
    "for col in ['property_type','room_type','bed_type','cancellation_policy','city']:\n",
    "    \n",
    "    temp=pd.get_dummies(train_data[col],prefix=col,drop_first=True)\n",
    "    train_data=pd.concat([temp,train_data],1)\n",
    "    train_data.drop([col],1,inplace=True)\n",
    "    "
   ]
  },
  {
   "cell_type": "code",
   "execution_count": 35,
   "metadata": {},
   "outputs": [
    {
     "name": "stdout",
     "output_type": "stream",
     "text": [
      "property_type : 32\n",
      "room_type : 3\n",
      "bed_type : 5\n",
      "cancellation_policy : 5\n",
      "city : 6\n"
     ]
    }
   ],
   "source": [
    "#test_data( create dummies to the categorical varaibles)\n",
    "for col in test_data.select_dtypes(['object']).columns:\n",
    "    print(col,':',test_data[col].nunique())"
   ]
  },
  {
   "cell_type": "code",
   "execution_count": 36,
   "metadata": {},
   "outputs": [],
   "source": [
    "for col in ['property_type','room_type','bed_type','cancellation_policy','city']:\n",
    "    \n",
    "    temp=pd.get_dummies(test_data[col],prefix=col,drop_first=True)\n",
    "    test_data=pd.concat([temp,test_data],1)\n",
    "    test_data.drop([col],1,inplace=True)\n",
    "    "
   ]
  },
  {
   "cell_type": "code",
   "execution_count": 37,
   "metadata": {},
   "outputs": [
    {
     "data": {
      "text/plain": [
       "((24111, 61), (49999, 62))"
      ]
     },
     "execution_count": 37,
     "metadata": {},
     "output_type": "execute_result"
    }
   ],
   "source": [
    "test_data.shape, train_data.shape"
   ]
  },
  {
   "cell_type": "code",
   "execution_count": 38,
   "metadata": {},
   "outputs": [],
   "source": [
    "#train_data(save the claning data)\n",
    "train_data.to_csv('Airbnb_train_cleandata.csv', index =False)"
   ]
  },
  {
   "cell_type": "code",
   "execution_count": 39,
   "metadata": {},
   "outputs": [],
   "source": [
    "#train_data(save the claning data)\n",
    "test_data.to_csv('Airbnb_test_cleandata.csv', index=False)"
   ]
  },
  {
   "cell_type": "code",
   "execution_count": null,
   "metadata": {},
   "outputs": [],
   "source": []
  }
 ],
 "metadata": {
  "kernelspec": {
   "display_name": "Python 3",
   "language": "python",
   "name": "python3"
  },
  "language_info": {
   "codemirror_mode": {
    "name": "ipython",
    "version": 3
   },
   "file_extension": ".py",
   "mimetype": "text/x-python",
   "name": "python",
   "nbconvert_exporter": "python",
   "pygments_lexer": "ipython3",
   "version": "3.8.3"
  }
 },
 "nbformat": 4,
 "nbformat_minor": 4
}
